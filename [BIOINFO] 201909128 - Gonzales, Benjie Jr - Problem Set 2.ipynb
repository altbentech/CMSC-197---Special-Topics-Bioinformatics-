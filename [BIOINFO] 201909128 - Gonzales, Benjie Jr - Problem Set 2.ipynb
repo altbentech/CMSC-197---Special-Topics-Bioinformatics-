{
 "cells": [
  {
   "cell_type": "markdown",
   "id": "aca801b5",
   "metadata": {},
   "source": [
    "Name: Benjie S. Gonzales Jr."
   ]
  },
  {
   "cell_type": "markdown",
   "id": "d173bf8a",
   "metadata": {},
   "source": [
    "## 1. Counting DNA Nucleotides"
   ]
  },
  {
   "cell_type": "code",
   "execution_count": 30,
   "id": "eb2e1ed0",
   "metadata": {},
   "outputs": [
    {
     "name": "stdout",
     "output_type": "stream",
     "text": [
      "Please enter DNA string. (Note: String must only be composed of A, C, G, or T)\n",
      "aaacccgggttt\n",
      "A     C     G     T     \n",
      "3     3     3     3     \n"
     ]
    }
   ],
   "source": [
    "input_dna = input(\"Please enter DNA string. (Note: String must only be composed of A, C, G, or T)\\n\")\n",
    "dna_string = input_dna.upper() #convert to uppercase for easier counting\n",
    "\n",
    "def count_dna(dna_string):\n",
    "    #counts number of occurence using count() function\n",
    "    a_count = dna_string.count(\"A\")\n",
    "    c_count = dna_string.count(\"C\")\n",
    "    g_count = dna_string.count(\"G\")\n",
    "    t_count = dna_string.count(\"T\")\n",
    "    print(f\"{'A':<6}{'C':<6}{'G':<6}{'T':<6}\")\n",
    "    print(f\"{a_count:<6}{c_count:<6}{g_count:<6}{t_count:<6}\")\n",
    "\n",
    "count_dna(dna_string)"
   ]
  },
  {
   "cell_type": "markdown",
   "id": "471bec9a",
   "metadata": {},
   "source": [
    "## 2. Transcribing DNA into RNA"
   ]
  },
  {
   "cell_type": "code",
   "execution_count": 19,
   "id": "0b63c9a7",
   "metadata": {},
   "outputs": [
    {
     "name": "stdout",
     "output_type": "stream",
     "text": [
      "AAAAACCCCCGGGGUUUU\n"
     ]
    }
   ],
   "source": [
    "def transcribe(dna_string):\n",
    "    rna = \"\" # empty var to store rna string later\n",
    "    for i in dna_string:\n",
    "        if i == 'T':\n",
    "            #changes \"T\" to \"U\"\n",
    "            rna += 'U'\n",
    "        else:\n",
    "            #retains other symbols\n",
    "            rna += i\n",
    "    return rna\n",
    "\n",
    "print(transcribe(dna_string))"
   ]
  },
  {
   "cell_type": "markdown",
   "id": "715091de",
   "metadata": {},
   "source": [
    "## 3. Translating RNA into Protein"
   ]
  },
  {
   "cell_type": "code",
   "execution_count": 27,
   "id": "af6c5b50",
   "metadata": {},
   "outputs": [
    {
     "name": "stdout",
     "output_type": "stream",
     "text": [
      "MAMAPRTEINSTRING \n"
     ]
    }
   ],
   "source": [
    "rna = 'AUGGCCAUGGCGCCCAGAACUGAGAUCAAUAGUACCCGUAUUAACGGGUGA'\n",
    "def translate(rna):\n",
    "     #create map for easier conversion  \n",
    "    map = {\n",
    "        \"UUU\":\"F\", \"UUC\":\"F\", \"UUA\":\"L\", \"UUG\":\"L\",\n",
    "       \"UCU\":\"S\", \"UCC\":\"s\", \"UCA\":\"S\", \"UCG\":\"S\",\n",
    "       \"UAU\":\"Y\", \"UAC\":\"Y\", \"UAA\":\" \", \"UAG\":\" \",\n",
    "       \"UGU\":\"C\", \"UGC\":\"C\", \"UGA\":\" \", \"UGG\":\"W\",\n",
    "       \"CUU\":\"L\", \"CUC\":\"L\", \"CUA\":\"L\", \"CUG\":\"L\",\n",
    "       \"CCU\":\"P\", \"CCC\":\"P\", \"CCA\":\"P\", \"CCG\":\"P\",\n",
    "       \"CAU\":\"H\", \"CAC\":\"H\", \"CAA\":\"Q\", \"CAG\":\"Q\",\n",
    "       \"CGU\":\"R\", \"CGC\":\"R\", \"CGA\":\"R\", \"CGG\":\"R\",\n",
    "       \"AUU\":\"I\", \"AUC\":\"I\", \"AUA\":\"I\", \"AUG\":\"M\",\n",
    "       \"ACU\":\"T\", \"ACC\":\"T\", \"ACA\":\"T\", \"ACG\":\"T\",\n",
    "       \"AAU\":\"N\", \"AAC\":\"N\", \"AAA\":\"K\", \"AAG\":\"K\",\n",
    "       \"AGU\":\"S\", \"AGC\":\"S\", \"AGA\":\"R\", \"AGG\":\"R\",\n",
    "       \"GUU\":\"V\", \"GUC\":\"V\", \"GUA\":\"V\", \"GUG\":\"V\",\n",
    "       \"GCU\":\"A\", \"GCC\":\"A\", \"GCA\":\"A\", \"GCG\":\"A\",\n",
    "       \"GAU\":\"D\", \"GAC\":\"D\", \"GAA\":\"E\", \"GAG\":\"E\",\n",
    "       \"GGU\":\"G\", \"GGC\":\"G\", \"GGA\":\"G\", \"GGG\":\"G\",\n",
    "    }\n",
    "    protein =\"\"\n",
    "    if len(rna)%3 == 0: #length must be divisible by 3\n",
    "        for i in range(0, len(seq), 3):\n",
    "            #take three symbols at a time\n",
    "            codon = rna[i:i + 3]\n",
    "            protein+= map[codon] #convert to corresponding letter in map\n",
    "    return protein\n",
    "\n",
    "print(translate(rna))"
   ]
  }
 ],
 "metadata": {
  "kernelspec": {
   "display_name": "Python 3 (ipykernel)",
   "language": "python",
   "name": "python3"
  },
  "language_info": {
   "codemirror_mode": {
    "name": "ipython",
    "version": 3
   },
   "file_extension": ".py",
   "mimetype": "text/x-python",
   "name": "python",
   "nbconvert_exporter": "python",
   "pygments_lexer": "ipython3",
   "version": "3.9.12"
  }
 },
 "nbformat": 4,
 "nbformat_minor": 5
}
